{
  "nbformat": 4,
  "nbformat_minor": 0,
  "metadata": {
    "colab": {
      "name": "Numpy.ipynb",
      "provenance": [],
      "authorship_tag": "ABX9TyMykfiyOO/Vr96DkxHr3Qhx",
      "include_colab_link": true
    },
    "kernelspec": {
      "name": "python3",
      "display_name": "Python 3"
    },
    "language_info": {
      "name": "python"
    }
  },
  "cells": [
    {
      "cell_type": "markdown",
      "metadata": {
        "id": "view-in-github",
        "colab_type": "text"
      },
      "source": [
        "<a href=\"https://colab.research.google.com/github/Akshadabangar/Task4-OOP-Python/blob/main/Numpy.ipynb\" target=\"_parent\"><img src=\"https://colab.research.google.com/assets/colab-badge.svg\" alt=\"Open In Colab\"/></a>"
      ]
    },
    {
      "cell_type": "code",
      "execution_count": 1,
      "metadata": {
        "colab": {
          "base_uri": "https://localhost:8080/"
        },
        "id": "SuRoozVYAcMU",
        "outputId": "4565308c-9503-48e0-a6ec-4525c7d1c9cc"
      },
      "outputs": [
        {
          "output_type": "stream",
          "name": "stdout",
          "text": [
            "Array is of type:  <class 'numpy.ndarray'>\n",
            "Shape of array:  (2, 4)\n"
          ]
        }
      ],
      "source": [
        "##1st program to create Array & print shape\n",
        "#importing Numpy Library\n",
        "\n",
        "import numpy as np\n",
        "array = np.array([[1, 2, 3, 4], [5, 6, 7, 8]])\n",
        "print(\"Array is of type: \", type(array))\n",
        "print(\"Shape of array: \", array.shape)"
      ]
    },
    {
      "cell_type": "code",
      "source": [
        "#2nd program Creating array from list with type float\n",
        "#importing Numpy Library\n",
        "\n",
        "import numpy as np\n",
        "a = np.array([[1, 2, 4], [5, 8, 7]], dtype = 'float')\n",
        "print (\"Array created using passed list:\\n\", a)"
      ],
      "metadata": {
        "colab": {
          "base_uri": "https://localhost:8080/"
        },
        "id": "ovSuvFWFAwoS",
        "outputId": "af0569a7-3db4-4d70-d497-406b664d8017"
      },
      "execution_count": 2,
      "outputs": [
        {
          "output_type": "stream",
          "name": "stdout",
          "text": [
            "Array created using passed list:\n",
            " [[1. 2. 4.]\n",
            " [5. 8. 7.]]\n"
          ]
        }
      ]
    },
    {
      "cell_type": "code",
      "source": [
        "##3rd program Creating array from Touple with type float\n",
        "#importing Numpy Library\n",
        "\n",
        "import numpy as np \n",
        "b = np.array((1 , 3, 2))\n",
        "print (\"array created using passed tuple:\\n\", b)"
      ],
      "metadata": {
        "colab": {
          "base_uri": "https://localhost:8080/"
        },
        "id": "A5YbpZYEBA2-",
        "outputId": "679f29f6-8a47-477c-8717-471e47f7f20d"
      },
      "execution_count": 3,
      "outputs": [
        {
          "output_type": "stream",
          "name": "stdout",
          "text": [
            "array created using passed tuple:\n",
            " [1 3 2]\n"
          ]
        }
      ]
    },
    {
      "cell_type": "code",
      "source": [
        "#4th program slicing array\n",
        "#importing Numpy Library\n",
        "\n",
        "import numpy as np\n",
        "array = np.array([[-1, 2, 0, 4],\n",
        "               [4, -0.5, 6, 0],\n",
        "               [2.6, 0, 7, 8],\n",
        "               [3, -7, 4, 2.0]])\n",
        "                \n",
        "temp = array[:2, ::2]\n",
        "print (\"array with first 2 rows and alternate\" \"columns(0 and 2):\\n\", temp)\n",
        "cond = array > 0\n",
        "temp = array[cond]\n",
        "print (\"\\n Elements greater than 0:\\n\", temp)"
      ],
      "metadata": {
        "id": "nQSN5shvBPeo",
        "outputId": "14083cd4-db30-48cd-f257-66fc89e97265",
        "colab": {
          "base_uri": "https://localhost:8080/"
        }
      },
      "execution_count": 5,
      "outputs": [
        {
          "output_type": "stream",
          "name": "stdout",
          "text": [
            "array with first 2 rows and alternatecolumns(0 and 2):\n",
            " [[-1.  0.]\n",
            " [ 4.  6.]]\n",
            "\n",
            " Elements greater than 0:\n",
            " [2.  4.  4.  6.  2.6 7.  8.  3.  4.  2. ]\n"
          ]
        }
      ]
    },
    {
      "cell_type": "code",
      "source": [
        "##5th program to maximum & minimum elements of array \n",
        "#importing Numpy Library\n",
        "\n",
        "import numpy as np\n",
        "array = np.array([[1, 5, 6],\n",
        "               [4, 7, 2],\n",
        "               [3, 1, 9]])\n",
        "print (\"Largest element is:\", array.max())\n",
        "print (\"Row wise maximum elements:\",array.min(axis = 0))\n",
        "print (\"Column wise minimum elements:\", array.min(axis = 0))\n"
      ],
      "metadata": {
        "id": "70Mbh9naBgLp",
        "outputId": "e79a49f0-99a1-4dab-b0cd-7b41c13e4f5b",
        "colab": {
          "base_uri": "https://localhost:8080/"
        }
      },
      "execution_count": 7,
      "outputs": [
        {
          "output_type": "stream",
          "name": "stdout",
          "text": [
            "Largest element is: 9\n",
            "Row wise maximum elements: [1 1 2]\n",
            "Column wise minimum elements: [1 1 2]\n"
          ]
        }
      ]
    },
    {
      "cell_type": "code",
      "source": [
        "##6th program modify existing array\n",
        "#importing Numpy Library\n",
        "\n",
        "import numpy as np\n",
        "a = np.array([1, 2, 5, 3])\n",
        "a *= 2\n",
        "print (\"Doubled each element of original array:\", a)"
      ],
      "metadata": {
        "id": "knL8G0OXBwvQ",
        "outputId": "4cc6b7fd-01a9-40f9-963e-363116eda13c",
        "colab": {
          "base_uri": "https://localhost:8080/"
        }
      },
      "execution_count": 8,
      "outputs": [
        {
          "output_type": "stream",
          "name": "stdout",
          "text": [
            "Doubled each element of original array: [ 2  4 10  6]\n"
          ]
        }
      ]
    },
    {
      "cell_type": "code",
      "source": [
        "##7th program Exponent value of array\n",
        "#importing Numpy Library\n",
        "\n",
        "import numpy as np\n",
        "a = np.array([0, 1, 2, 3])\n",
        "print (\"Exponent of array elements:\",np.exp(a))"
      ],
      "metadata": {
        "id": "UO0458vIB4Rl",
        "outputId": "5702cf2c-bff2-464c-d3d6-b35be1b86803",
        "colab": {
          "base_uri": "https://localhost:8080/"
        }
      },
      "execution_count": 9,
      "outputs": [
        {
          "output_type": "stream",
          "name": "stdout",
          "text": [
            "Exponent of array elements: [ 1.          2.71828183  7.3890561  20.08553692]\n"
          ]
        }
      ]
    },
    {
      "cell_type": "code",
      "source": [
        "##8th program sorted array\n",
        "#importing Numpy Library\n",
        "\n",
        "import numpy as np\n",
        "a = np.array([[1, 4, 2],\n",
        "             [3, 4, 6],\n",
        "             [0, -1, 5]])\n",
        "print (\"Array elements in sorted order:\\n\",np.sort(a, axis = None))"
      ],
      "metadata": {
        "id": "2CAsPsjcCEXB",
        "outputId": "caceaeb1-2c08-4fa3-bb29-9a6052c931ef",
        "colab": {
          "base_uri": "https://localhost:8080/"
        }
      },
      "execution_count": 10,
      "outputs": [
        {
          "output_type": "stream",
          "name": "stdout",
          "text": [
            "Array elements in sorted order:\n",
            " [-1  0  1  2  3  4  4  5  6]\n"
          ]
        }
      ]
    }
  ]
}